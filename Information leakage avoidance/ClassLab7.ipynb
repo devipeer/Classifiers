{
 "cells": [
  {
   "cell_type": "code",
   "execution_count": 1,
   "metadata": {},
   "outputs": [],
   "source": [
    "import pandas as pd\n",
    "import numpy as np\n",
    "import matplotlib.pyplot as plt\n",
    "\n",
    "set1 = pd.read_csv('S4_set1.csv', header=None)\n",
    "set2 = pd.read_csv('S4_set2.csv', header=None)\n",
    "labels = pd.read_csv('labels.csv', header=None).transpose()\n",
    "labels.astype('category');"
   ]
  },
  {
   "cell_type": "code",
   "execution_count": 2,
   "metadata": {},
   "outputs": [],
   "source": [
    "from sklearn.preprocessing import MinMaxScaler\n",
    "scaler = MinMaxScaler()\n",
    "dataset1 = scaler.fit_transform(set1)\n",
    "dataset2 = scaler.fit_transform(set2)\n",
    "dataset1 = pd.DataFrame(dataset1)\n",
    "dataset2 = pd.DataFrame(dataset2)"
   ]
  },
  {
   "cell_type": "code",
   "execution_count": 3,
   "metadata": {},
   "outputs": [],
   "source": [
    "from sklearn.feature_selection import SelectKBest, chi2\n",
    "def Select(dataset, labels, k_features):\n",
    "    selection = SelectKBest(score_func=chi2, k=k_features).fit(dataset, labels)\n",
    "    scores = pd.DataFrame(selection.scores_)\n",
    "    scores.columns = ['Score']\n",
    "    features = scores.nlargest(k_features, 'Score').index.values\n",
    "    new_dataset = dataset[features]\n",
    "    return new_dataset, features, scores"
   ]
  },
  {
   "cell_type": "code",
   "execution_count": 4,
   "metadata": {},
   "outputs": [],
   "source": [
    "from sklearn import svm\n",
    "from sklearn.metrics import confusion_matrix\n",
    "def classifier(train, test, train_label, test_label):\n",
    "    SVM = svm.SVC(kernel=\"rbf\").fit(train, train_label)\n",
    "    prediction = SVM.predict(test)\n",
    "\n",
    "    TN, FP, FN, TP = confusion_matrix(test_label, prediction).ravel()\n",
    "    Accuracy = (TN + TP) / (TN + FP + FN + TP)\n",
    "    Error = 1 - Accuracy\n",
    "    return Accuracy, Error"
   ]
  },
  {
   "cell_type": "code",
   "execution_count": 5,
   "metadata": {},
   "outputs": [],
   "source": [
    "# Scenerio 1 "
   ]
  },
  {
   "cell_type": "code",
   "execution_count": 6,
   "metadata": {},
   "outputs": [],
   "source": [
    "[dataset1_S1, features1_S1, scores1_S1] = Select(dataset1, labels, 10)\n",
    "[dataset2_S1, features2_S1, scores2_S1] = Select(dataset2, labels, 10)"
   ]
  },
  {
   "cell_type": "code",
   "execution_count": 7,
   "metadata": {},
   "outputs": [
    {
     "name": "stdout",
     "output_type": "stream",
     "text": [
      "Error dataset 1=  0.0\n",
      "Error dataset 2=  0.0\n"
     ]
    }
   ],
   "source": [
    "[S1_Acc1, S1_Err1] = classifier(dataset1_S1, dataset1_S1, labels.values.ravel(), labels.values.ravel())\n",
    "print(\"Error dataset 1= \", S1_Err1)\n",
    "[S1_Acc2, S1_Err2] = classifier(dataset2_S1, dataset2_S1, labels.values.ravel(), labels.values.ravel())\n",
    "print(\"Error dataset 2= \", S1_Err2)"
   ]
  },
  {
   "cell_type": "code",
   "execution_count": 8,
   "metadata": {},
   "outputs": [],
   "source": [
    "# Scenerio 2"
   ]
  },
  {
   "cell_type": "code",
   "execution_count": 20,
   "metadata": {},
   "outputs": [
    {
     "name": "stdout",
     "output_type": "stream",
     "text": [
      "Error dataset 1 =  0.0\n",
      "Error dataset 2 =  0.022000000000000002\n"
     ]
    }
   ],
   "source": [
    "from sklearn.model_selection import train_test_split\n",
    "S2_Err1_sum = 0\n",
    "S2_Err2_sum = 0\n",
    "ACC1_S2 = np.array([])\n",
    "ACC2_S2 = np.array([])\n",
    "for i in range(50):\n",
    "    dataset1_S2, features1_S2, scores1_S2 = Select(dataset1, labels, 10)\n",
    "    dataset2_S2, features2_S2, scores2_S2 = Select(dataset2, labels, 10)\n",
    "    x1_train_S2, x1_test_S2, y1_train_S2, y1_test_S2=train_test_split(dataset1_S2,labels,test_size=0.5)\n",
    "    x2_train_S2, x2_test_S2, y2_train_S2, y2_test_S2=train_test_split(dataset2_S2,labels,test_size=0.5)\n",
    "    S2_Acc1, S2_Err1 = classifier(x1_train_S2, x1_test_S2, y1_train_S2.values.ravel(), y1_test_S2.values.ravel())\n",
    "    S2_Acc2, S2_Err2 = classifier(x2_train_S2, x2_test_S2, y2_train_S2.values.ravel(), y2_test_S2.values.ravel())\n",
    "    S2_Err1_sum = S2_Err1 + S2_Err1_sum\n",
    "    S2_Err2_sum = S2_Err2 + S2_Err2_sum\n",
    "    ACC1_S2 = np.append(ACC1_S2, S2_Acc1)\n",
    "    ACC2_S2 = np.append(ACC2_S2, S2_Acc2)\n",
    "\n",
    "print(\"Error dataset 1 = \", (S2_Err1_sum/50))\n",
    "print(\"Error dataset 2 = \", (S2_Err2_sum/50))"
   ]
  },
  {
   "cell_type": "code",
   "execution_count": 10,
   "metadata": {},
   "outputs": [],
   "source": [
    "# Scenerio 3"
   ]
  },
  {
   "cell_type": "code",
   "execution_count": 23,
   "metadata": {},
   "outputs": [
    {
     "name": "stdout",
     "output_type": "stream",
     "text": [
      "Error dataset 1 =  0.054000000000000006\n",
      "Error dataset 2 =  0.5660000000000001\n"
     ]
    }
   ],
   "source": [
    "S3_Err1_sum = 0\n",
    "S3_Err2_sum = 0\n",
    "ACC1_S3 = np.array([])\n",
    "ACC2_S3 = np.array([])\n",
    "selected1=np.array([])\n",
    "selected2=np.array([])\n",
    "for i in range(50):\n",
    "    x1_train_S3, x1_test_S3, y1_train_S3, y1_test_S3 = train_test_split(dataset1,labels,test_size=0.5)\n",
    "    x2_train_S3, x2_test_S3, y2_train_S3, y2_test_S3 = train_test_split(dataset2,labels,test_size=0.5)\n",
    "    [x1_train_S3_2, features1_S3_2, scores1_S3_2] = Select(x1_train_S3, y1_train_S3, 10)\n",
    "    [x2_train_S3_2, features2_S3_2, scores2_S3_2] = Select(x2_train_S3, y2_train_S3, 10)\n",
    "    selected1=np.append(selected1,features1_S3_2) # selected features for first dataset\n",
    "    selected2=np.append(selected2,features2_S3_2) # selected features for second dataset\n",
    "    x1_test_S3 = x1_test_S3[features1_S3_2]\n",
    "    x2_test_S3 = x2_test_S3[features2_S3_2]\n",
    "    [S3_Acc1, S3_Err1] = classifier(x1_train_S3_2, x1_test_S3, y1_train_S3.values.ravel(), y1_test_S3.values.ravel())\n",
    "    [S3_Acc2, S3_Err2] = classifier(x2_train_S3_2, x2_test_S3, y2_train_S3.values.ravel(), y2_test_S3.values.ravel())\n",
    "    S3_Err1_sum = S3_Err1 + S3_Err1_sum\n",
    "    S3_Err2_sum = S3_Err2 + S3_Err2_sum\n",
    "    ACC1_S3 = np.append(ACC1_S3, S3_Acc1)\n",
    "    ACC2_S3 = np.append(ACC2_S3, S3_Acc2)\n",
    "\n",
    "print(\"Error dataset 1 = \", S3_Err1_sum/50)\n",
    "print(\"Error dataset 2 = \", S3_Err2_sum/50)"
   ]
  },
  {
   "cell_type": "code",
   "execution_count": 30,
   "metadata": {},
   "outputs": [
    {
     "name": "stdout",
     "output_type": "stream",
     "text": [
      "[   0.   15.   37.   86.  166.  170.  174.  184.  198.  238.  259.  284.\n",
      "  291.  351.  376.  385.  476.  499.  536.  543.  547.  560.  598.  616.\n",
      "  636.  708.  776.  788.  827.  936.  969. 1010. 1027. 1146. 1147. 1184.\n",
      " 1245. 1252. 1257. 1324. 1362. 1541. 1561. 1571. 1606. 1617. 1685. 1695.\n",
      " 1722. 1836. 1840. 1850. 1860. 1867. 1889. 1910. 1938. 1940. 1961. 1965.\n",
      " 1977. 2034. 2074. 2080. 2126. 2178. 2196. 2218. 2247. 2259. 2295. 2302.\n",
      " 2326. 2370. 2371. 2372. 2435. 2458. 2542. 2548. 2553. 2575. 2577. 2614.\n",
      " 2616. 2630. 2632. 2647. 2665. 2668. 2722. 2730. 2742. 2753. 2759. 2760.\n",
      " 2777. 2781. 2789. 2869. 2891. 2930. 2939. 2976. 3007. 3017. 3026. 3067.\n",
      " 3075. 3082. 3110. 3123. 3132. 3164. 3184. 3208. 3243. 3247. 3393. 3406.\n",
      " 3427. 3433. 3439. 3453. 3483. 3550. 3565. 3581. 3674. 3699. 3703. 3706.\n",
      " 3714. 3719. 3722. 3743. 3770. 3821. 3858. 3878. 3902. 3938. 3954. 3956.\n",
      " 3997. 4013. 4017. 4041. 4044. 4098. 4139. 4332. 4392. 4419. 4495. 4499.\n",
      " 4539. 4550. 4553. 4571. 4603. 4667. 4688. 4705. 4744. 4772. 4818. 4832.\n",
      " 4890. 4920. 4968. 4979.]\n",
      "[ 2  2  1  1 11  1 48  1  1  1  1  1  1  1  1  5  2  1  1  1  2  1  1  1\n",
      "  1  1  1  2  3  1  1  3  6  2  1  1  7  1  1  1  3  2  1  1  1  1  1  1\n",
      "  1  3  1  1  1  1  1  1 47  1  1  4  3  1  1  2  2  3  1  1  1  1  1  1\n",
      "  1  1  4  2  1  1  1  2  1  1  1  1  2  2  1  2  3  1  1  1  1  2  3  1\n",
      "  2  2  1  1  2  1  1  5  2 45  1  2  1  1  3 18  1 37  6  1  1  1  1  2\n",
      "  2  1  1  1  1  1  2  1  2  1  1  1  2  1  1  1  1  2  3  1  1  1  1  2\n",
      "  2  1  2  1  1  5  1  1  1  3  4  1  1  1  1  1  2  1  1  5 31  2  1  2\n",
      "  1  1  4  1]\n",
      "Indices of discriminative features: \n"
     ]
    },
    {
     "data": {
      "text/plain": [
       "array([], dtype=float64)"
      ]
     },
     "execution_count": 30,
     "metadata": {},
     "output_type": "execute_result"
    }
   ],
   "source": [
    "indexes, counts= np.unique(selected1, return_counts=True)\n",
    "print(indexes)\n",
    "print(counts)\n",
    "print('Indices of discriminative features: ')\n",
    "indexes[counts==50]"
   ]
  },
  {
   "cell_type": "code",
   "execution_count": 12,
   "metadata": {},
   "outputs": [
    {
     "data": {
      "text/plain": [
       "Text(0.5, 1.0, 'Dataset 2')"
      ]
     },
     "execution_count": 12,
     "metadata": {},
     "output_type": "execute_result"
    },
    {
     "data": {
      "image/png": "[encoded data removed]",
      "text/plain": [
       "<Figure size 720x504 with 1 Axes>"
      ]
     },
     "metadata": {
      "needs_background": "light"
     },
     "output_type": "display_data"
    },
    {
     "data": {
      "image/png": "[encoded data removed]",
      "text/plain": [
       "<Figure size 720x504 with 1 Axes>"
      ]
     },
     "metadata": {
      "needs_background": "light"
     },
     "output_type": "display_data"
    }
   ],
   "source": [
    "import seaborn as sns\n",
    "import matplotlib.pyplot as plt\n",
    "data1= [S1_Acc1, ACC1_S2, ACC1_S3]\n",
    "fig=plt.figure(figsize=(10,7))\n",
    "ax=fig.add_subplot(111)\n",
    "bp=ax.boxplot(data1, patch_artist=True, notch='True', vert=1)\n",
    "ax.set_xticklabels(['Scenario 1','Scenario 2','Scenario 3'])\n",
    "ax.set_ylabel('Accuracy'); ax.set_title('Dataset 1')\n",
    "\n",
    "data2= [S2_Acc1, ACC2_S2, ACC2_S3]\n",
    "fig=plt.figure(figsize=(10,7))\n",
    "ax=fig.add_subplot(111)\n",
    "bp=ax.boxplot(data2, patch_artist=True, notch='True', vert=1)\n",
    "ax.set_xticklabels(['Scenario 1','Scenario 2','Scenario 3'])\n",
    "ax.set_ylabel('Accuracy'); ax.set_title('Dataset 2')"
   ]
  },
  {
   "cell_type": "code",
   "execution_count": 13,
   "metadata": {},
   "outputs": [],
   "source": [
    "# REAL DATASET FROM SECOND LABORATORY:\n",
    "train_real=pd.read_csv(\"Xtrain.csv\",header=None)\n",
    "train_class=pd.read_csv(\"Ytrain.csv\",header=None)\n",
    "test_real=pd.read_csv(\"Xtest.csv\",header=None)\n",
    "test_class=pd.read_csv(\"Ytest.csv\",header=None)"
   ]
  },
  {
   "cell_type": "code",
   "execution_count": 14,
   "metadata": {},
   "outputs": [],
   "source": [
    "real = np.concatenate((train_real.T,test_real.T))\n",
    "real_data=pd.DataFrame(real)\n",
    "real_labels =  np.concatenate((train_class.T,test_class.T))\n",
    "real_labels = pd.DataFrame(real_labels)"
   ]
  },
  {
   "cell_type": "code",
   "execution_count": 15,
   "metadata": {},
   "outputs": [],
   "source": [
    "scaling_real = MinMaxScaler()\n",
    "real_data = scaling_real.fit_transform(real_data)\n",
    "real_data = pd.DataFrame(real_data)"
   ]
  },
  {
   "cell_type": "code",
   "execution_count": 16,
   "metadata": {},
   "outputs": [
    {
     "name": "stdout",
     "output_type": "stream",
     "text": [
      "Classification error for real dataset (scenario 1)\n",
      "0.040000000000000036\n"
     ]
    }
   ],
   "source": [
    "# SCENARIO 1\n",
    "[new_real, selected_real, real_score] = Select(real_data, real_labels, 15)\n",
    "\n",
    "[ACC_real, Error_real] = classifier(new_real,new_real,real_labels.values.ravel(),real_labels.values.ravel())\n",
    "\n",
    "print('Classification error for real dataset (scenario 1)'); print(Error_real)"
   ]
  },
  {
   "cell_type": "code",
   "execution_count": 17,
   "metadata": {},
   "outputs": [
    {
     "name": "stdout",
     "output_type": "stream",
     "text": [
      "Classification error for real dataset (scenario 2)\n",
      "0.07936507936507942\n"
     ]
    }
   ],
   "source": [
    "# SCENARIO 2\n",
    "[new_real2, selected_real2, real_score2] = Select(real_data, real_labels, 15)\n",
    "\n",
    "train_real, test_real, train_lab, test_lab = train_test_split(new_real2,real_labels, test_size=0.5)\n",
    "    \n",
    "[ACC_real2, Error_real2] = classifier(train_real,test_real, train_lab.values.ravel(), test_lab.values.ravel())\n",
    "\n",
    "print('Classification error for real dataset (scenario 2)'); print(Error_real2)"
   ]
  },
  {
   "cell_type": "code",
   "execution_count": 18,
   "metadata": {},
   "outputs": [
    {
     "name": "stdout",
     "output_type": "stream",
     "text": [
      "Classification error for real dataset (scenario 3)\n",
      "0.015873015873015928\n"
     ]
    }
   ],
   "source": [
    "# SCENARIO 3 \n",
    "train_real2, test_real2, train_lab2, test_lab2 = train_test_split(real_data,real_labels, test_size=0.5)\n",
    "\n",
    "[train_real3, selected_real3, real_score3] = Select(train_real2, train_lab2, 15)\n",
    "   \n",
    "test_real2 = test_real2[selected_real3]\n",
    "\n",
    "[ACC_real3, Error_real3] = classifier(train_real3,test_real2, train_lab2.values.ravel(),test_lab2.values.ravel())\n",
    "\n",
    "print('Classification error for real dataset (scenario 3)'); print(Error_real3)"
   ]
  }
 ],
 "metadata": {
  "interpreter": {
   "hash": "3896d6b9bbf0a9f2bd9f8750ed2e51c1d9223af63e53ef317da329cca0ef0861"
  },
  "kernelspec": {
   "display_name": "Python 3.9.7 ('base')",
   "language": "python",
   "name": "python3"
  },
  "language_info": {
   "codemirror_mode": {
    "name": "ipython",
    "version": 3
   },
   "file_extension": ".py",
   "mimetype": "text/x-python",
   "name": "python",
   "nbconvert_exporter": "python",
   "pygments_lexer": "ipython3",
   "version": "3.9.7"
  },
  "orig_nbformat": 4
 },
 "nbformat": 4,
 "nbformat_minor": 2
}
