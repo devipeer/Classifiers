{
 "cells": [
  {
   "cell_type": "code",
   "execution_count": 1,
   "metadata": {},
   "outputs": [],
   "source": [
    "import pandas as pd\n",
    "import numpy as np\n",
    "import matplotlib.pyplot as plt\n",
    "\n",
    "set1 = pd.read_csv('S4_set1.csv', header=None)\n",
    "set2 = pd.read_csv('S4_set2.csv', header=None)\n",
    "labels = pd.read_csv('labels.csv', header=None).transpose()\n",
    "labels.astype('category');"
   ]
  },
  {
   "cell_type": "code",
   "execution_count": 2,
   "metadata": {},
   "outputs": [],
   "source": [
    "from sklearn.preprocessing import MinMaxScaler\n",
    "scaler = MinMaxScaler()\n",
    "dataset1 = scaler.fit_transform(set1)\n",
    "dataset2 = scaler.fit_transform(set2)\n",
    "dataset1 = pd.DataFrame(dataset1)\n",
    "dataset2 = pd.DataFrame(dataset2)"
   ]
  },
  {
   "cell_type": "code",
   "execution_count": 3,
   "metadata": {},
   "outputs": [],
   "source": [
    "from sklearn.feature_selection import SelectKBest, chi2\n",
    "def Select(dataset, labels, k_features):\n",
    "    selection = SelectKBest(score_func=chi2, k=k_features)\n",
    "    fit = selection.fit(dataset, labels)\n",
    "    scores = pd.DataFrame(fit.scores_)\n",
    "    scores.columns = ['Score']\n",
    "    selected_features = scores.nlargest(k_features, 'Score').index.values\n",
    "    new_dataset = dataset[selected_features]\n",
    "    return new_dataset, selected_features, scores"
   ]
  },
  {
   "cell_type": "code",
   "execution_count": 4,
   "metadata": {},
   "outputs": [],
   "source": [
    "from sklearn import svm\n",
    "from sklearn.metrics import confusion_matrix\n",
    "def classifier(train, test, train_label, test_label):\n",
    "    SVM = svm.SVC(kernel=\"rbf\")\n",
    "    SVM.fit(train, train_label)\n",
    "    prediction = SVM.predict(test)\n",
    "\n",
    "    TN, FP, FN, TP = confusion_matrix(test_label, prediction).ravel()\n",
    "    Accuracy = (TN + TP) / (TN + FP + FN + TP)\n",
    "    Error = 1 - Accuracy\n",
    "    return Accuracy, Error"
   ]
  },
  {
   "cell_type": "code",
   "execution_count": 5,
   "metadata": {},
   "outputs": [],
   "source": [
    "# Scenerio 1 "
   ]
  },
  {
   "cell_type": "code",
   "execution_count": 6,
   "metadata": {},
   "outputs": [],
   "source": [
    "[dataset1_S1, features1_S1, scores1_S1] = Select(dataset1, labels, 10)\n",
    "[dataset2_S1, features2_S1, scores2_S1] = Select(dataset2, labels, 10)"
   ]
  },
  {
   "cell_type": "code",
   "execution_count": 7,
   "metadata": {},
   "outputs": [
    {
     "name": "stdout",
     "output_type": "stream",
     "text": [
      "Error dataset 1=  0.0\n",
      "Error dataset 2=  0.0\n"
     ]
    }
   ],
   "source": [
    "[S1_Acc1, S1_Err1] = classifier(dataset1_S1, dataset1_S1, labels.values.ravel(), labels.values.ravel())\n",
    "print(\"Error dataset 1= \", S1_Err1)\n",
    "[S1_Acc2, S1_Err2] = classifier(dataset2_S1, dataset2_S1, labels.values.ravel(), labels.values.ravel())\n",
    "print(\"Error dataset 2= \", S1_Err2)"
   ]
  },
  {
   "cell_type": "code",
   "execution_count": 8,
   "metadata": {},
   "outputs": [],
   "source": [
    "# Scenerio 2"
   ]
  },
  {
   "cell_type": "code",
   "execution_count": 9,
   "metadata": {},
   "outputs": [
    {
     "name": "stdout",
     "output_type": "stream",
     "text": [
      "Error dataset 1 =  0.0\n",
      "Error dataset 2 =  0.025999999999999995\n"
     ]
    }
   ],
   "source": [
    "from sklearn.model_selection import train_test_split\n",
    "S2_Err1_sum = 0\n",
    "S2_Err2_sum = 0\n",
    "ACC1_S2 = np.array([])\n",
    "ACC2_S2 = np.array([])\n",
    "for i in range(50):\n",
    "    [dataset1_S2, features1_S2, scores1_S2] = Select(dataset1, labels, 10)\n",
    "    [dataset2_S2, features2_S2, scores2_S2] = Select(dataset2, labels, 10)\n",
    "    x1_train_S2, x1_test_S2, y1_train_S2, y1_test_S2=train_test_split(dataset1_S2,labels,test_size=0.5)\n",
    "    x2_train_S2, x2_test_S2, y2_train_S2, y2_test_S2=train_test_split(dataset2_S2,labels,test_size=0.5)\n",
    "    [S2_Acc1, S2_Err1] = classifier(x1_train_S2, x1_test_S2, y1_train_S2.values.ravel(), y1_test_S2.values.ravel())\n",
    "    [S2_Acc2, S2_Err2] = classifier(x2_train_S2, x2_test_S2, y2_train_S2.values.ravel(), y2_test_S2.values.ravel())\n",
    "    S2_Err1_sum = S2_Err1 + S2_Err1_sum\n",
    "    S2_Err2_sum = S2_Err2 + S2_Err2_sum\n",
    "    ACC1_S2 = np.append(ACC1_S2, S2_Acc1)\n",
    "    ACC2_S2 = np.append(ACC2_S2, S2_Acc2)\n",
    "\n",
    "print(\"Error dataset 1 = \", (S2_Err1_sum/50))\n",
    "print(\"Error dataset 2 = \", (S2_Err2_sum/50))"
   ]
  },
  {
   "cell_type": "code",
   "execution_count": 10,
   "metadata": {},
   "outputs": [],
   "source": [
    "# Scenerio 3"
   ]
  },
  {
   "cell_type": "code",
   "execution_count": 11,
   "metadata": {},
   "outputs": [
    {
     "name": "stdout",
     "output_type": "stream",
     "text": [
      "Error dataset 1 =  0.07600000000000001\n",
      "Error dataset 2 =  0.5540000000000002\n"
     ]
    }
   ],
   "source": [
    "S3_Err1_sum = 0\n",
    "S3_Err2_sum = 0\n",
    "ACC1_S3 = np.array([])\n",
    "ACC2_S3 = np.array([])\n",
    "for i in range(50):\n",
    "    x1_train_S3, x1_test_S3, y1_train_S3, y1_test_S3=train_test_split(dataset1,labels,test_size=0.5)\n",
    "    x2_train_S3, x2_test_S3, y2_train_S3, y2_test_S3=train_test_split(dataset2,labels,test_size=0.5)\n",
    "\n",
    "    [x1_train_S3_2, features1_S3_2, scores1_S3_2] = Select(x1_train_S3, y1_train_S3, 10)\n",
    "    [x2_train_S3_2, features2_S3_2, scores2_S3_2] = Select(x2_train_S3, y2_train_S3, 10)\n",
    "    x1_test_S3 = x1_test_S3[features1_S3_2]\n",
    "    x2_test_S3 = x2_test_S3[features2_S3_2]\n",
    "\n",
    "    [S3_Acc1, S3_Err1] = classifier(x1_train_S3_2, x1_test_S3, y1_train_S3.values.ravel(), y1_test_S3.values.ravel())\n",
    "    [S3_Acc2, S3_Err2] = classifier(x2_train_S3_2, x2_test_S3, y2_train_S3.values.ravel(), y2_test_S3.values.ravel())\n",
    "    S3_Err1_sum = S3_Err1 + S3_Err1_sum\n",
    "    S3_Err2_sum = S3_Err2 + S3_Err2_sum\n",
    "    ACC1_S3 = np.append(ACC1_S3, S3_Acc1)\n",
    "    ACC2_S3 = np.append(ACC2_S3, S3_Acc2)\n",
    "\n",
    "print(\"Error dataset 1 = \", S3_Err1_sum/50)\n",
    "print(\"Error dataset 2 = \", S3_Err2_sum/50)"
   ]
  },
  {
   "cell_type": "code",
   "execution_count": 12,
   "metadata": {},
   "outputs": [
    {
     "data": {
      "text/plain": [
       "Text(0.5, 1.0, 'Dataset 2')"
      ]
     },
     "execution_count": 12,
     "metadata": {},
     "output_type": "execute_result"
    },
    {
     "data": {
      "image/png": "[encoded data removed]",
      "text/plain": [
       "<Figure size 720x504 with 1 Axes>"
      ]
     },
     "metadata": {
      "needs_background": "light"
     },
     "output_type": "display_data"
    },
    {
     "data": {
      "image/png": "[encoded data removed]",
      "text/plain": [
       "<Figure size 720x504 with 1 Axes>"
      ]
     },
     "metadata": {
      "needs_background": "light"
     },
     "output_type": "display_data"
    }
   ],
   "source": [
    "import seaborn as sns\n",
    "import matplotlib.pyplot as plt\n",
    "data1= [S1_Acc1, ACC1_S2, ACC1_S3]\n",
    "fig=plt.figure(figsize=(10,7))\n",
    "ax=fig.add_subplot(111)\n",
    "bp=ax.boxplot(data1, patch_artist=True, notch='True', vert=1)\n",
    "ax.set_xticklabels(['Scenario 1','Scenario 2','Scenario 3'])\n",
    "ax.set_ylabel('Accuracy'); ax.set_title('Dataset 1')\n",
    "\n",
    "data2= [S2_Acc1, ACC2_S2, ACC2_S3]\n",
    "fig=plt.figure(figsize=(10,7))\n",
    "ax=fig.add_subplot(111)\n",
    "bp=ax.boxplot(data2, patch_artist=True, notch='True', vert=1)\n",
    "ax.set_xticklabels(['Scenario 1','Scenario 2','Scenario 3'])\n",
    "ax.set_ylabel('Accuracy'); ax.set_title('Dataset 2')"
   ]
  },
  {
   "cell_type": "code",
   "execution_count": 13,
   "metadata": {},
   "outputs": [],
   "source": [
    "# REAL DATASET FROM SECOND LABORATORY:\n",
    "train_real=pd.read_csv(\"Xtrain.csv\",header=None)\n",
    "train_class=pd.read_csv(\"Ytrain.csv\",header=None)\n",
    "test_real=pd.read_csv(\"Xtest.csv\",header=None)\n",
    "test_class=pd.read_csv(\"Ytest.csv\",header=None)"
   ]
  },
  {
   "cell_type": "code",
   "execution_count": 14,
   "metadata": {},
   "outputs": [],
   "source": [
    "real = np.concatenate((train_real.T,test_real.T))\n",
    "real_data=pd.DataFrame(real)\n",
    "real_labels =  np.concatenate((train_class.T,test_class.T))\n",
    "real_labels = pd.DataFrame(real_labels)"
   ]
  },
  {
   "cell_type": "code",
   "execution_count": 15,
   "metadata": {},
   "outputs": [],
   "source": [
    "scaling_real = MinMaxScaler()\n",
    "real_data = scaling_real.fit_transform(real_data)\n",
    "real_data = pd.DataFrame(real_data)"
   ]
  },
  {
   "cell_type": "code",
   "execution_count": 16,
   "metadata": {},
   "outputs": [
    {
     "name": "stdout",
     "output_type": "stream",
     "text": [
      "Classification error for real dataset (scenario 1)\n",
      "0.040000000000000036\n"
     ]
    }
   ],
   "source": [
    "# SCENARIO 1\n",
    "[new_real, selected_real, real_score] = Select(real_data, real_labels, 15)\n",
    "\n",
    "[ACC_real, Error_real] = classifier(new_real,new_real,real_labels.values.ravel(),real_labels.values.ravel())\n",
    "\n",
    "print('Classification error for real dataset (scenario 1)'); print(Error_real)"
   ]
  },
  {
   "cell_type": "code",
   "execution_count": 17,
   "metadata": {},
   "outputs": [
    {
     "name": "stdout",
     "output_type": "stream",
     "text": [
      "Classification error for real dataset (scenario 2)\n",
      "0.06349206349206349\n"
     ]
    }
   ],
   "source": [
    "# SCENARIO 2\n",
    "[new_real2, selected_real2, real_score2] = Select(real_data, real_labels, 15)\n",
    "\n",
    "train_real, test_real, train_lab, test_lab = train_test_split(new_real2,real_labels, test_size=0.5)\n",
    "    \n",
    "[ACC_real2, Error_real2] = classifier(train_real,test_real, train_lab.values.ravel(), test_lab.values.ravel())\n",
    "\n",
    "print('Classification error for real dataset (scenario 2)'); print(Error_real2)"
   ]
  },
  {
   "cell_type": "code",
   "execution_count": 18,
   "metadata": {},
   "outputs": [
    {
     "name": "stdout",
     "output_type": "stream",
     "text": [
      "Classification error for real dataset (scenario 3)\n",
      "0.07936507936507942\n"
     ]
    }
   ],
   "source": [
    "# SCENARIO 3 \n",
    "train_real2, test_real2, train_lab2, test_lab2 = train_test_split(real_data,real_labels, test_size=0.5)\n",
    "\n",
    "[train_real3, selected_real3, real_score3] = Select(train_real2, train_lab2, 15)\n",
    "   \n",
    "test_real2 = test_real2[selected_real3]\n",
    "\n",
    "[ACC_real3, Error_real3] = classifier(train_real3,test_real2, train_lab2.values.ravel(),test_lab2.values.ravel())\n",
    "\n",
    "print('Classification error for real dataset (scenario 3)'); print(Error_real3)"
   ]
  }
 ],
 "metadata": {
  "interpreter": {
   "hash": "3896d6b9bbf0a9f2bd9f8750ed2e51c1d9223af63e53ef317da329cca0ef0861"
  },
  "kernelspec": {
   "display_name": "Python 3.9.7 ('base')",
   "language": "python",
   "name": "python3"
  },
  "language_info": {
   "codemirror_mode": {
    "name": "ipython",
    "version": 3
   },
   "file_extension": ".py",
   "mimetype": "text/x-python",
   "name": "python",
   "nbconvert_exporter": "python",
   "pygments_lexer": "ipython3",
   "version": "3.9.7"
  },
  "orig_nbformat": 4
 },
 "nbformat": 4,
 "nbformat_minor": 2
}
